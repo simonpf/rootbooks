{
 "cells": [
  {
   "cell_type": "code",
   "execution_count": null,
   "metadata": {
    "collapsed": true
   },
   "outputs": [],
   "source": [
    "TMVA::Tools::Instance();\n",
    "\n",
    "TFile *input             = TFile::Open(\"higgs.root\");\n",
    "TMVA::DataLoader *loader = new TMVA::DataLoader(\"higgs\");\n",
    "\n",
    "TString outfilename      = \"TMVA_DNN_GPU.root\";\n",
    "TFile *output            = TFile::Open(outfilename, \"RECREATE\");\n",
    "TMVA::Factory *factory   = new TMVA::Factory(\"TMVAClassification\", output, \"AnalysisType=Classification\");"
   ]
  },
  {
   "cell_type": "code",
   "execution_count": null,
   "metadata": {
    "collapsed": true
   },
   "outputs": [],
   "source": [
    "TTree *tsignal     = (TTree *) input->Get(\"TreeS\");\n",
    "TTree *tbackground = (TTree *) input->Get(\"TreeB\");\n",
    "Double_t signalWeight     = 1.0;\n",
    "Double_t backgroundWeight = 1.0;\n",
    "loader->AddSignalTree    (tsignal,     signalWeight);\n",
    "loader->AddBackgroundTree(tbackground, backgroundWeight);\n",
    "loader->AddVariable(\"lepton_pT\",'F');\n",
    "loader->AddVariable(\"lepton_eta\",'F');\n",
    "loader->AddVariable(\"lepton_phi\",'F');\n",
    "loader->AddVariable(\"missing_energy_magnitude\",'F');\n",
    "loader->AddVariable(\"missing_energy_phi\",'F');\n",
    "loader->AddVariable(\"jet_1_pt\",'F');\n",
    "loader->AddVariable(\"jet_1_eta\",'F');\n",
    "loader->AddVariable(\"jet_1_phi\",'F');\n",
    "loader->AddVariable(\"jet_1_b_tag\",'F');\n",
    "loader->AddVariable(\"jet_2_pt\",'F');\n",
    "loader->AddVariable(\"jet_2_eta\",'F');\n",
    "loader->AddVariable(\"jet_2_phi\",'F');\n",
    "loader->AddVariable(\"jet_2_b_tag\",'F');\n",
    "loader->AddVariable(\"jet_3_pt\",'F');\n",
    "loader->AddVariable(\"jet_3_eta\",'F');\n",
    "loader->AddVariable(\"jet_3_phi\",'F');\n",
    "loader->AddVariable(\"jet_3_b_tag\",'F');\n",
    "loader->AddVariable(\"jet_4_pt\",'F');\n",
    "loader->AddVariable(\"jet_4_eta\",'F');\n",
    "loader->AddVariable(\"jet_4_phi\",'F');\n",
    "loader->AddVariable(\"jet_4_b_tag\",'F');\n",
    "loader->AddVariable(\"m_jj\",'F');\n",
    "loader->AddVariable(\"m_jjj\",'F');\n",
    "loader->AddVariable(\"m_lv\",'F');\n",
    "loader->AddVariable(\"m_jlv\",'F');\n",
    "loader->AddVariable(\"m_bb\",'F');\n",
    "loader->AddVariable(\"m_wbb\",'F');\n",
    "loader->AddVariable(\"m_wwbb\",'F');"
   ]
  },
  {
   "cell_type": "code",
   "execution_count": null,
   "metadata": {
    "collapsed": true
   },
   "outputs": [],
   "source": [
    "TString dataString = \"nTrain_Signal=5000000:\"\n",
    "                     \"nTrain_Background=5000000:\"\n",
    "                     \"nTest_Signal=100000:\"\n",
    "                     \"nTest_Background=100000:\"\n",
    "                     \"SplitMode=Random:\"\n",
    "                     \"NormMode=NumEvents:\"\n",
    "                     \"!V\";\n",
    "loader->PrepareTrainingAndTestTree(\"\", \"\", dataString);-"
   ]
  },
  {
   "cell_type": "code",
   "execution_count": null,
   "metadata": {
    "collapsed": true
   },
   "outputs": [],
   "source": [
    "factory->BookMethod(loader, TMVA::Types::kBDT, \"BDT\", \"!V:NTrees=1000:MinNodeSize=2.5%:MaxDepth=3\"\n",
    "                                                      \":BoostType=AdaBoost:AdaBoostBeta=0.5\"\n",
    "                                                      \":UseBaggedBoost:BaggedSampleFraction=0.5\"\n",
    "                                                      \":SeparationType=GiniIndex:nCuts=20\");"
   ]
  },
  {
   "cell_type": "code",
   "execution_count": null,
   "metadata": {
    "collapsed": true
   },
   "outputs": [],
   "source": [
    "TString configString = \"!H:V\";\n",
    "configString += \":Architecture=GPU\";\n",
    "configString += \":VarTransform=N\";\n",
    "configString += \":ErrorStrategy=CROSSENTROPY\";\n",
    "configString += \":WeightInitialization=XAVIERUNIFORM\";\n",
    "TString layoutString = \"Layout=TANH|256,TANH|256,TANH|256,TANH|256,TANH|256,LINEAR\";\n",
    "\n",
    "TString trainingPhase1 = \"TrainingStrategy=\"\n",
    "                         \"LearningRate=0.1,\"\n",
    "                         \"ConvergenceSteps=20,\"\n",
    "                         \"Momentum=0.9,\"\n",
    "                         \"BatchSize=4096,\"\n",
    "                         \"Regularization=L2,\"\n",
    "                         \"WeightDecay=1e-5,\"\n",
    "                         \"TestRepetitions=5\";\n",
    "\n",
    "configString += \":\" + layoutString;\n",
    "configString += \":\" + trainingPhase1;\n",
    "TMVA::Types::EMVA method = TMVA::Types::kDNN;\n",
    "factory->BookMethod(loader, method, \"DNN\", configString);"
   ]
  },
  {
   "cell_type": "code",
   "execution_count": null,
   "metadata": {
    "collapsed": true
   },
   "outputs": [],
   "source": [
    "factory->TrainAllMethods();\n",
    "factory->TestAllMethods();\n",
    "factory->EvaluateAllMethods();"
   ]
  },
  {
   "cell_type": "code",
   "execution_count": null,
   "metadata": {
    "collapsed": true
   },
   "outputs": [],
   "source": [
    "%jsroot on\n",
    "TCanvas *c=factory->GetROCCurve(loader);\n",
    "c->Draw();"
   ]
  }
 ],
 "metadata": {
  "kernelspec": {
   "display_name": "ROOT C++",
   "language": "c++",
   "name": "root"
  }
 },
 "nbformat": 4,
 "nbformat_minor": 0
}
